{
 "cells": [
  {
   "cell_type": "code",
   "execution_count": null,
   "metadata": {},
   "outputs": [],
   "source": [
    "# 題目：\n",
    "#1。在速度較慢的時候，可以先從哪邊開始檢查?\n",
    "#答：檢查記憶體：整數型態int改成uint減少記憶體正用空間/浮點數型態float64改成float32減少記憶體正用空間\n",
    "\n",
    "#2。資料過大時應採取什麼方式讓記憶體占用量下降?\n",
    "#答：欄位的型態降級有助於減少記憶體佔用空間"
   ]
  }
 ],
 "metadata": {
  "kernelspec": {
   "display_name": "Python 3",
   "language": "python",
   "name": "python3"
  },
  "language_info": {
   "codemirror_mode": {
    "name": "ipython",
    "version": 3
   },
   "file_extension": ".py",
   "mimetype": "text/x-python",
   "name": "python",
   "nbconvert_exporter": "python",
   "pygments_lexer": "ipython3",
   "version": "3.8.3"
  }
 },
 "nbformat": 4,
 "nbformat_minor": 4
}
